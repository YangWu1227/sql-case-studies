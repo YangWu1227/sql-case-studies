{
 "cells": [
  {
   "cell_type": "code",
   "execution_count": 1,
   "metadata": {},
   "outputs": [],
   "source": [
    "from IPython.core.interactiveshell import InteractiveShell\n",
    "InteractiveShell.ast_node_interactivity = \"all\"\n",
    "\n",
    "import sys \n",
    "import os \n",
    "\n",
    "sys.path.append('../../../')\n",
    "from src.athena import Athena\n",
    "from src.utils import create_session"
   ]
  },
  {
   "cell_type": "markdown",
   "metadata": {},
   "source": [
    "## Global"
   ]
  },
  {
   "cell_type": "code",
   "execution_count": 12,
   "metadata": {},
   "outputs": [
    {
     "data": {
      "text/plain": [
       "Athena(boto3_session=Session(region_name='us-east-1'), s3_output=s3://sql-case-studies/query_results)"
      ]
     },
     "execution_count": 12,
     "metadata": {},
     "output_type": "execute_result"
    }
   ],
   "source": [
    "boto3_session = create_session(profile_name='dev', role_arn='arn:aws:iam::722696965592:role/athena-full-access-role')\n",
    "\n",
    "wait = True\n",
    "\n",
    "sql_path = \"../sql/\"\n",
    "\n",
    "athena = Athena(boto3_session=boto3_session, s3_output=os.getenv('ATHENA_S3_OUTPUT'))\n",
    "athena"
   ]
  },
  {
   "cell_type": "markdown",
   "metadata": {},
   "source": [
    "## Create Database & Table"
   ]
  },
  {
   "cell_type": "code",
   "execution_count": 13,
   "metadata": {},
   "outputs": [
    {
     "name": "stdout",
     "output_type": "stream",
     "text": [
      "Query executed successfully\n"
     ]
    }
   ],
   "source": [
    "response = athena.create_database(\n",
    "    database='dannys_diner',\n",
    "    wait=wait\n",
    ")\n",
    "\n",
    "response"
   ]
  },
  {
   "cell_type": "code",
   "execution_count": 20,
   "metadata": {},
   "outputs": [
    {
     "name": "stdout",
     "output_type": "stream",
     "text": [
      "CREATE EXTERNAL TABLE IF NOT EXISTS dannys_diner.menu (\n",
      "  product_id INT,\n",
      "  product_name STRING,\n",
      "  price DOUBLE\n",
      ")\n",
      "COMMENT 'Menu details'\n",
      "ROW FORMAT DELIMITED\n",
      "STORED AS PARQUET\n",
      "LOCATION 's3://sql-case-studies/dannys_diner/menu/'\n",
      "TBLPROPERTIES ('has_encrypted_data'='false', 'classification'='parquet', 'skip.header.line.count'='1');\n",
      "\n",
      "--------------------------------------------------\n",
      "\n",
      "\n",
      "CREATE EXTERNAL TABLE IF NOT EXISTS dannys_diner.sales (\n",
      "  customer_id CHAR(1),\n",
      "  order_date TIMESTAMP,\n",
      "  product_id INT\n",
      ")\n",
      "COMMENT 'Sales line items'\n",
      "ROW FORMAT DELIMITED\n",
      "STORED AS PARQUET\n",
      "LOCATION 's3://sql-case-studies/dannys_diner/sales/'\n",
      "TBLPROPERTIES ('has_encrypted_data'='false', 'classification'='parquet', 'skip.header.line.count'='1');\n",
      "\n",
      "--------------------------------------------------\n",
      "\n",
      "\n",
      "CREATE EXTERNAL TABLE IF NOT EXISTS dannys_diner.members (\n",
      "  customer_id CHAR(1),\n",
      "  join_date TIMESTAMP\n",
      ")\n",
      "COMMENT 'Membership details'\n",
      "ROW FORMAT DELIMITED\n",
      "STORED AS PARQUET\n",
      "LOCATION 's3://sql-case-studies/dannys_diner/members/'\n",
      "TBLPROPERTIES ('classification'='parquet', 'parquet.compress'='SNAPPY');\n",
      "\n",
      "--------------------------------------------------\n",
      "\n",
      "\n"
     ]
    }
   ],
   "source": [
    "tables = ['menu', 'sales', 'members']\n",
    "ddls = {}\n",
    "for table in tables:\n",
    "    with open(os.path.join(sql_path, f'{table}_ddl.sql'), 'r') as f:\n",
    "        ddls[table] = f.read()\n",
    "\n",
    "    print(ddls[table])\n",
    "    print('-'*50)\n",
    "    print('\\n')"
   ]
  },
  {
   "cell_type": "code",
   "execution_count": 21,
   "metadata": {},
   "outputs": [
    {
     "name": "stdout",
     "output_type": "stream",
     "text": [
      "Query executed successfully\n",
      "Query executed successfully\n",
      "Query executed successfully\n"
     ]
    }
   ],
   "source": [
    "for ddl in ddls.values():\n",
    "    response = athena.create_table( database='dannys_diner', query=ddl, wait=wait)\n",
    "    response"
   ]
  },
  {
   "cell_type": "markdown",
   "metadata": {},
   "source": [
    "## Drop Database & Table"
   ]
  },
  {
   "cell_type": "code",
   "execution_count": 22,
   "metadata": {},
   "outputs": [
    {
     "name": "stdout",
     "output_type": "stream",
     "text": [
      "Query executed successfully\n",
      "Query executed successfully\n",
      "Query executed successfully\n"
     ]
    }
   ],
   "source": [
    "for table in tables:    \n",
    "    athena.drop_table(\n",
    "        database='dannys_diner',\n",
    "        table=table,\n",
    "        wait=wait\n",
    "    )"
   ]
  },
  {
   "cell_type": "code",
   "execution_count": 23,
   "metadata": {},
   "outputs": [
    {
     "name": "stdout",
     "output_type": "stream",
     "text": [
      "Query executed successfully\n"
     ]
    }
   ],
   "source": [
    "athena.drop_database(\n",
    "    database='dannys_diner',\n",
    "    wait=wait\n",
    ")"
   ]
  }
 ],
 "metadata": {
  "kernelspec": {
   "display_name": "sql_challenges",
   "language": "python",
   "name": "python3"
  },
  "language_info": {
   "codemirror_mode": {
    "name": "ipython",
    "version": 3
   },
   "file_extension": ".py",
   "mimetype": "text/x-python",
   "name": "python",
   "nbconvert_exporter": "python",
   "pygments_lexer": "ipython3",
   "version": "3.11.9"
  }
 },
 "nbformat": 4,
 "nbformat_minor": 2
}
