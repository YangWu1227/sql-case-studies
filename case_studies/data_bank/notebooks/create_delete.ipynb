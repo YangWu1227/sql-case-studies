{
 "cells": [
  {
   "cell_type": "code",
   "execution_count": 1,
   "metadata": {},
   "outputs": [],
   "source": [
    "from IPython.core.interactiveshell import InteractiveShell\n",
    "InteractiveShell.ast_node_interactivity = \"all\"\n",
    "\n",
    "import sys \n",
    "import os \n",
    "\n",
    "sys.path.append('../../../')\n",
    "from src.athena import Athena\n",
    "from src.utils import create_session"
   ]
  },
  {
   "cell_type": "markdown",
   "metadata": {},
   "source": [
    "## Global"
   ]
  },
  {
   "cell_type": "code",
   "execution_count": 2,
   "metadata": {},
   "outputs": [
    {
     "data": {
      "text/plain": [
       "Athena(boto3_session=Session(region_name='us-east-1'), s3_output=s3://sql-case-studies/query_results)"
      ]
     },
     "execution_count": 2,
     "metadata": {},
     "output_type": "execute_result"
    }
   ],
   "source": [
    "boto3_session = create_session(profile_name='dev', role_arn='arn:aws:iam::722696965592:role/athena-full-access-role')\n",
    "\n",
    "wait = True\n",
    "\n",
    "sql_path = \"../sql/\"\n",
    "\n",
    "athena = Athena(boto3_session=boto3_session, s3_output=os.getenv('ATHENA_S3_OUTPUT'))\n",
    "athena"
   ]
  },
  {
   "cell_type": "markdown",
   "metadata": {},
   "source": [
    "## Create Database & Table"
   ]
  },
  {
   "cell_type": "code",
   "execution_count": 3,
   "metadata": {},
   "outputs": [
    {
     "name": "stdout",
     "output_type": "stream",
     "text": [
      "Query executed successfully\n"
     ]
    }
   ],
   "source": [
    "response = athena.create_database(\n",
    "    database='data_bank',\n",
    "    wait=wait\n",
    ")\n",
    "\n",
    "response"
   ]
  },
  {
   "cell_type": "code",
   "execution_count": 4,
   "metadata": {},
   "outputs": [
    {
     "name": "stdout",
     "output_type": "stream",
     "text": [
      "CREATE EXTERNAL TABLE IF NOT EXISTS data_bank.regions (\n",
      "  region_id INT,\n",
      "  region_name VARCHAR(9)\n",
      ")\n",
      "COMMENT 'Regions table'\n",
      "ROW FORMAT DELIMITED\n",
      "STORED AS PARQUET\n",
      "LOCATION 's3://sql-case-studies/data_bank/regions/'\n",
      "TBLPROPERTIES ('classification'='parquet', 'parquet.compress'='SNAPPY');\n",
      "\n",
      "--------------------------------------------------\n",
      "\n",
      "\n",
      "CREATE EXTERNAL TABLE IF NOT EXISTS data_bank.customer_nodes (\n",
      "  customer_id INT,\n",
      "  region_id INT,\n",
      "  node_id INT,\n",
      "  start_date TIMESTAMP,\n",
      "  end_date TIMESTAMP\n",
      ")\n",
      "COMMENT 'Customer nodes table'\n",
      "ROW FORMAT DELIMITED\n",
      "STORED AS PARQUET\n",
      "LOCATION 's3://sql-case-studies/data_bank/customer_nodes/'\n",
      "TBLPROPERTIES ('classification'='parquet', 'parquet.compress'='SNAPPY');\n",
      "\n",
      "--------------------------------------------------\n",
      "\n",
      "\n",
      "CREATE EXTERNAL TABLE IF NOT EXISTS data_bank.customer_transactions (\n",
      "  customer_id INT,\n",
      "  txn_date TIMESTAMP,\n",
      "  txn_type VARCHAR(10),\n",
      "  txn_amount DOUBLE\n",
      ")\n",
      "COMMENT 'Customer transactions table'\n",
      "ROW FORMAT DELIMITED\n",
      "STORED AS PARQUET\n",
      "LOCATION 's3://sql-case-studies/data_bank/customer_transactions/'\n",
      "TBLPROPERTIES ('classification'='parquet', 'parquet.compress'='SNAPPY');\n",
      "\n",
      "--------------------------------------------------\n",
      "\n",
      "\n"
     ]
    }
   ],
   "source": [
    "tables = ['regions', 'customer_nodes', 'customer_transactions']\n",
    "ddls = {}\n",
    "for table in tables:\n",
    "    with open(os.path.join(sql_path, f'{table}_ddl.sql'), 'r') as f:\n",
    "        ddls[table] = f.read()\n",
    "\n",
    "    print(ddls[table])\n",
    "    print('-'*50)\n",
    "    print('\\n')"
   ]
  },
  {
   "cell_type": "code",
   "execution_count": 5,
   "metadata": {},
   "outputs": [
    {
     "name": "stdout",
     "output_type": "stream",
     "text": [
      "Query executed successfully\n",
      "Query executed successfully\n",
      "Query executed successfully\n"
     ]
    }
   ],
   "source": [
    "for ddl in ddls.values():\n",
    "    response = athena.create_table( database='data_bank', query=ddl, wait=wait)\n",
    "    response"
   ]
  },
  {
   "cell_type": "markdown",
   "metadata": {},
   "source": [
    "## Drop Database & Table"
   ]
  },
  {
   "cell_type": "code",
   "execution_count": 5,
   "metadata": {},
   "outputs": [
    {
     "name": "stdout",
     "output_type": "stream",
     "text": [
      "Query executed successfully\n",
      "Query executed successfully\n",
      "Query executed successfully\n"
     ]
    }
   ],
   "source": [
    "for table in tables:    \n",
    "    athena.drop_table(\n",
    "        database='data_bank',\n",
    "        table=table,\n",
    "        wait=wait\n",
    "    )"
   ]
  },
  {
   "cell_type": "code",
   "execution_count": 7,
   "metadata": {},
   "outputs": [
    {
     "name": "stdout",
     "output_type": "stream",
     "text": [
      "Query executed successfully\n"
     ]
    }
   ],
   "source": [
    "athena.drop_database(\n",
    "    database='data_bank',\n",
    "    wait=wait\n",
    ")"
   ]
  }
 ],
 "metadata": {
  "kernelspec": {
   "display_name": "sql_challenges",
   "language": "python",
   "name": "python3"
  },
  "language_info": {
   "codemirror_mode": {
    "name": "ipython",
    "version": 3
   },
   "file_extension": ".py",
   "mimetype": "text/x-python",
   "name": "python",
   "nbconvert_exporter": "python",
   "pygments_lexer": "ipython3",
   "version": "3.11.9"
  }
 },
 "nbformat": 4,
 "nbformat_minor": 2
}
